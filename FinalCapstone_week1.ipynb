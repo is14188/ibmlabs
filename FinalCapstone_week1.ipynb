{
 "cells": [
  {
   "cell_type": "markdown",
   "metadata": {
    "collapsed": true
   },
   "source": [
    "# Capstone Project - The Battle of the Neighborhoods\n",
    "### Applied Data Science Capstone by IBM/Coursera"
   ]
  },
  {
   "cell_type": "markdown",
   "metadata": {},
   "source": [
    "## Table of contents\n",
    "* [Introduction](#introduction)\n",
    "* [Data](#data)\n",
    "* [Methodology](#methodology)\n",
    "* [Analysis](#analysis)\n",
    "* [Results and Discussion](#results)\n",
    "* [Conclusion](#conclusion)"
   ]
  },
  {
   "cell_type": "markdown",
   "metadata": {},
   "source": [
    "\n",
    "\n",
    "## Introduction <a name=\"introduction\"></a>"
   ]
  },
  {
   "cell_type": "markdown",
   "metadata": {},
   "source": [
    "Moscow (city where I have spent 4 years of my life) is one of the largest cities in the world divided into more than 100 districts. Moscow is the city with growing prices for real estate and developing infrastructure. \n",
    "\n",
    "When I only moved to this city I knew nothing about catering infrastructure and prices for real estate in specific district. So this report will be useful for new comers to the city to identify the best place to live.\n",
    "\n",
    "To make this choice easier this report will show a map split by real estate prices with clustering catering infrastructure accordingly."
   ]
  },
  {
   "cell_type": "markdown",
   "metadata": {},
   "source": [
    "## Data <a name=\"data\"></a>"
   ]
  },
  {
   "cell_type": "markdown",
   "metadata": {},
   "source": [
    "Based on definition of the issue below is data to be used in analysis:\n",
    "* Moscow split by districts in .geojson found in GitHub (file was cleaned additionally) \n",
    "* number of existing catering venues extracted from Forsquare API\n",
    "* latest per square meter real estate price from one of the most popular Moscow real-estate web-cites\n",
    "\n",
    "*there are extra steps in data transformation to get data work due to Cyrillic"
   ]
  },
  {
   "cell_type": "code",
   "execution_count": null,
   "metadata": {},
   "outputs": [],
   "source": []
  }
 ],
 "metadata": {
  "kernelspec": {
   "display_name": "Python 3",
   "language": "python",
   "name": "python3"
  },
  "language_info": {
   "codemirror_mode": {
    "name": "ipython",
    "version": 3
   },
   "file_extension": ".py",
   "mimetype": "text/x-python",
   "name": "python",
   "nbconvert_exporter": "python",
   "pygments_lexer": "ipython3",
   "version": "3.7.5"
  }
 },
 "nbformat": 4,
 "nbformat_minor": 1
}
